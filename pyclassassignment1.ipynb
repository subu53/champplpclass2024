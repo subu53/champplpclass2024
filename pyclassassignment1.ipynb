{
 "cells": [
  {
   "cell_type": "code",
   "execution_count": 11,
   "id": "3857625d-9af5-4d6e-88c8-5378f2d24957",
   "metadata": {},
   "outputs": [],
   "source": [
    "    \n",
    "def remark():\n",
    "        #Start Program\n",
    "    \n",
    "        #Recording Lessons Attended\n",
    "        lessons =input(\"Enter the total number of lessons attended by the student:- \")\n",
    "    \n",
    "        #Record scores for assignments and CATS\n",
    "        as1 = input(\"Enter the score for assignment 1:- \")\n",
    "        as2 = input(\"Enter the score for assignment 2:- \")\n",
    "        as3 = input(\"Enter the score for assignment 3:- \")\n",
    "        \n",
    "        #Records cats Scores\n",
    "        cat1 = input(\"Enter the score for cat 1:- \")\n",
    "        cat2 = input(\"Enter the score for cat 2:- \")\n",
    "        \n",
    "        #calculate sum\n",
    "        total= int(as1) + int(as2) + int(as3) + int(cat1) + int(cat2)\n",
    "        print(f\"The total course work score:-  {total}\")\n",
    "    #Creating Remark\n",
    "        if (lessons > 4 & as1 >0  & as2 >0 & as3 >0 & cat1 >0 & cat2 >0 ):\n",
    "            print(\"Issue exam card\")\n",
    "        elif (lessons > 4 & as1 >0  & as2 >0 & as3 >0 & (cat1 or cat2 ==0) ):\n",
    "            print(\"Request for written permission from registrar to sit for exams\")\n",
    "        else:\n",
    "            print(\"Repeat the unit\")\n"
   ]
  },
  {
   "cell_type": "code",
   "execution_count": 12,
   "id": "0e5fed8a-1297-4908-9e8f-e09d79074c97",
   "metadata": {},
   "outputs": [
    {
     "name": "stdin",
     "output_type": "stream",
     "text": [
      "Enter the total number of lessons attended by the student:-  3\n",
      "Enter the score for assignment 1:-  4\n",
      "Enter the score for assignment 2:-  4\n",
      "Enter the score for assignment 3:-  8\n",
      "Enter the score for cat 1:-  13\n",
      "Enter the score for cat 2:-  12\n"
     ]
    },
    {
     "name": "stdout",
     "output_type": "stream",
     "text": [
      "The total course work score:-  41\n"
     ]
    },
    {
     "ename": "TypeError",
     "evalue": "unsupported operand type(s) for &: 'int' and 'str'",
     "output_type": "error",
     "traceback": [
      "\u001b[1;31m---------------------------------------------------------------------------\u001b[0m",
      "\u001b[1;31mTypeError\u001b[0m                                 Traceback (most recent call last)",
      "Cell \u001b[1;32mIn[12], line 1\u001b[0m\n\u001b[1;32m----> 1\u001b[0m remark()\n",
      "Cell \u001b[1;32mIn[11], line 22\u001b[0m, in \u001b[0;36mremark\u001b[1;34m()\u001b[0m\n\u001b[0;32m     20\u001b[0m total\u001b[38;5;241m=\u001b[39m \u001b[38;5;28mint\u001b[39m(as1) \u001b[38;5;241m+\u001b[39m \u001b[38;5;28mint\u001b[39m(as2) \u001b[38;5;241m+\u001b[39m \u001b[38;5;28mint\u001b[39m(as3) \u001b[38;5;241m+\u001b[39m \u001b[38;5;28mint\u001b[39m(cat1) \u001b[38;5;241m+\u001b[39m \u001b[38;5;28mint\u001b[39m(cat2)\n\u001b[0;32m     21\u001b[0m \u001b[38;5;28mprint\u001b[39m(\u001b[38;5;124mf\u001b[39m\u001b[38;5;124m\"\u001b[39m\u001b[38;5;124mThe total course work score:-  \u001b[39m\u001b[38;5;132;01m{\u001b[39;00mtotal\u001b[38;5;132;01m}\u001b[39;00m\u001b[38;5;124m\"\u001b[39m)\n\u001b[1;32m---> 22\u001b[0m \u001b[38;5;28;01mif\u001b[39;00m (lessons \u001b[38;5;241m>\u001b[39m \u001b[38;5;241m4\u001b[39m \u001b[38;5;241m&\u001b[39m as1 \u001b[38;5;241m>\u001b[39m\u001b[38;5;241m0\u001b[39m  \u001b[38;5;241m&\u001b[39m as2 \u001b[38;5;241m>\u001b[39m\u001b[38;5;241m0\u001b[39m \u001b[38;5;241m&\u001b[39m as3 \u001b[38;5;241m>\u001b[39m\u001b[38;5;241m0\u001b[39m \u001b[38;5;241m&\u001b[39m cat1 \u001b[38;5;241m>\u001b[39m\u001b[38;5;241m0\u001b[39m \u001b[38;5;241m&\u001b[39m cat2 \u001b[38;5;241m>\u001b[39m\u001b[38;5;241m0\u001b[39m ):\n\u001b[0;32m     23\u001b[0m     \u001b[38;5;28mprint\u001b[39m(\u001b[38;5;124m\"\u001b[39m\u001b[38;5;124mIssue exam card\u001b[39m\u001b[38;5;124m\"\u001b[39m)\n\u001b[0;32m     24\u001b[0m \u001b[38;5;28;01melif\u001b[39;00m (lessons \u001b[38;5;241m>\u001b[39m \u001b[38;5;241m4\u001b[39m \u001b[38;5;241m&\u001b[39m as1 \u001b[38;5;241m>\u001b[39m\u001b[38;5;241m0\u001b[39m  \u001b[38;5;241m&\u001b[39m as2 \u001b[38;5;241m>\u001b[39m\u001b[38;5;241m0\u001b[39m \u001b[38;5;241m&\u001b[39m as3 \u001b[38;5;241m>\u001b[39m\u001b[38;5;241m0\u001b[39m \u001b[38;5;241m&\u001b[39m (cat1 \u001b[38;5;129;01mor\u001b[39;00m cat2 \u001b[38;5;241m==\u001b[39m\u001b[38;5;241m0\u001b[39m) ):\n",
      "\u001b[1;31mTypeError\u001b[0m: unsupported operand type(s) for &: 'int' and 'str'"
     ]
    }
   ],
   "source": [
    "remark()"
   ]
  },
  {
   "cell_type": "code",
   "execution_count": 4,
   "id": "da2265fb-affe-42ca-910b-6ddc2fb26a90",
   "metadata": {},
   "outputs": [
    {
     "name": "stdin",
     "output_type": "stream",
     "text": [
      "Enter the total number of lessons attended by the student:  10\n",
      "Enter the score for assignment 1:  11\n",
      "Enter the score for assignment 2:  1\n",
      "Enter the score for assignment 3:  1\n",
      "Enter the score for CAT 1:  1\n",
      "Enter the score for CAT 2:  1\n"
     ]
    },
    {
     "name": "stdout",
     "output_type": "stream",
     "text": [
      "The total course work score: 15\n",
      "Issue exam card\n"
     ]
    }
   ],
   "source": [
    "def remark():\n",
    "    # Recording Lessons Attended\n",
    "    lessons = int(input(\"Enter the total number of lessons attended by the student: \"))\n",
    "\n",
    "    # Record scores for assignments and CATs\n",
    "    as1 = int(input(\"Enter the score for assignment 1: \"))\n",
    "    as2 = int(input(\"Enter the score for assignment 2: \"))\n",
    "    as3 = int(input(\"Enter the score for assignment 3: \"))\n",
    "\n",
    "    # Records CAT scores\n",
    "    cat1 = int(input(\"Enter the score for CAT 1: \"))\n",
    "    cat2 = int(input(\"Enter the score for CAT 2: \"))\n",
    "\n",
    "    # Calculate sum\n",
    "    total = as1 + as2 + as3 + cat1 + cat2\n",
    "    print(f\"The total course work score: {total}\")\n",
    "\n",
    "    # Creating Remark\n",
    "    if lessons > 4 and as1 > 0 and as2 > 0 and as3 > 0 and cat1 > 0 and cat2 > 0:\n",
    "        print(\"Issue exam card\")\n",
    "    elif lessons > 4 and as1 > 0 and as2 > 0 and as3 > 0 and (cat1 == 0 or cat2 == 0):\n",
    "        print(\"Request for written permission from registrar to sit for exams\")\n",
    "    elif lessons > 4 and (as1 == 0 or as2 == 0 or as3 == 0) and cat1 == 0 and cat2 == 0:\n",
    "        print(\"Repeat the unit\")\n",
    "    else:\n",
    "        print(\"Other conditions not met\")\n",
    "\n",
    " # Call the function to execute the code\n"
   ]
  },
  {
   "cell_type": "code",
   "execution_count": 5,
   "id": "0e158462-4a82-413f-875e-25c2b28e1cb6",
   "metadata": {},
   "outputs": [
    {
     "name": "stdin",
     "output_type": "stream",
     "text": [
      "Enter the total number of lessons attended by the student:  2\n",
      "Enter the score for assignment 1:  1\n",
      "Enter the score for assignment 2:  0\n",
      "Enter the score for assignment 3:  0\n",
      "Enter the score for CAT 1:  0\n",
      "Enter the score for CAT 2:  0\n"
     ]
    },
    {
     "name": "stdout",
     "output_type": "stream",
     "text": [
      "The total course work score: 1\n",
      "Other conditions not met\n"
     ]
    }
   ],
   "source": [
    "remark()"
   ]
  },
  {
   "cell_type": "code",
   "execution_count": null,
   "id": "133256b2-32ab-485e-b9fc-6986e9b60ad9",
   "metadata": {},
   "outputs": [],
   "source": []
  }
 ],
 "metadata": {
  "kernelspec": {
   "display_name": "Python 3 (ipykernel)",
   "language": "python",
   "name": "python3"
  },
  "language_info": {
   "codemirror_mode": {
    "name": "ipython",
    "version": 3
   },
   "file_extension": ".py",
   "mimetype": "text/x-python",
   "name": "python",
   "nbconvert_exporter": "python",
   "pygments_lexer": "ipython3",
   "version": "3.11.7"
  }
 },
 "nbformat": 4,
 "nbformat_minor": 5
}
